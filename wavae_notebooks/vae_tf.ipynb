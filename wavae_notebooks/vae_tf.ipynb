{
 "cells": [
  {
   "cell_type": "code",
   "execution_count": 22,
   "metadata": {},
   "outputs": [],
   "source": [
    "import sys\n",
    "import numpy as np\n",
    "import os\n",
    "import matplotlib.pyplot as plt\n",
    "%matplotlib inline\n",
    "\n",
    "import tensorflow as tf\n",
    "from tensorflow import keras\n",
    "from keras import layers"
   ]
  },
  {
   "cell_type": "code",
   "execution_count": 15,
   "metadata": {},
   "outputs": [
    {
     "data": {
      "text/plain": [
       "[]"
      ]
     },
     "execution_count": 15,
     "metadata": {},
     "output_type": "execute_result"
    }
   ],
   "source": [
    "tf.config.list_physical_devices('GPU')"
   ]
  },
  {
   "cell_type": "code",
   "execution_count": 17,
   "metadata": {},
   "outputs": [],
   "source": [
    "c = capacity = 16"
   ]
  },
  {
   "cell_type": "code",
   "execution_count": 19,
   "metadata": {},
   "outputs": [],
   "source": [
    "wave_size = 256\n",
    "latent_dims = 16\n",
    "c = capacity = 16"
   ]
  },
  {
   "cell_type": "code",
   "execution_count": 24,
   "metadata": {},
   "outputs": [],
   "source": [
    "class VAE(keras.Model):\n",
    "\n",
    "    def __init__(self, latent_dims):\n",
    "        super(VAE, self).__init__()\n",
    "        self.latent_dims = latent_dims\n",
    "        self.encoder = keras.Sequential(\n",
    "            layers = \n",
    "            [\n",
    "                layers.InputLayer(input_shape=(1,1,256)),\n",
    "                layers.Conv1D(filters=c, kernel_size=4, strides=2, activation='relu', padding='same'),\n",
    "                layers.Conv1D(filters=2*c, kernel_size=4, strides=2, activation='relu', padding='same'),\n",
    "                layers.Flatten(),\n",
    "                layers.Dense(latent_dims)\n",
    "            ],\n",
    "            name = \"Encoder\"\n",
    "        )\n",
    "        self.decoder = keras.Sequential(\n",
    "            layers=\n",
    "            [\n",
    "                layers.InputLayer(input_shape=(1,1,latent_dims)),\n",
    "                layers.Dense(2*c*64),\n",
    "                layers.Reshape(target_shape=(1, 2*c, 64)),\n",
    "                layers.Conv1DTranspose(filters=c, kernel_size=4, strides=2, activation='relu', padding='same'),\n",
    "                layers.Conv1DTranspose(filters=1, kernel_size=4, strides=2, activation='sigmoid', padding='same')\n",
    "            ],\n",
    "            name = \"Decoder\"\n",
    "        )\n"
   ]
  }
 ],
 "metadata": {
  "kernelspec": {
   "display_name": "Python 3.9.15 ('base')",
   "language": "python",
   "name": "python3"
  },
  "language_info": {
   "codemirror_mode": {
    "name": "ipython",
    "version": 3
   },
   "file_extension": ".py",
   "mimetype": "text/x-python",
   "name": "python",
   "nbconvert_exporter": "python",
   "pygments_lexer": "ipython3",
   "version": "3.9.15"
  },
  "orig_nbformat": 4,
  "vscode": {
   "interpreter": {
    "hash": "9593775b4d513f3b840c8c3b9515d475a61fb72e7d93f2015a3e30ae9402c003"
   }
  }
 },
 "nbformat": 4,
 "nbformat_minor": 2
}
