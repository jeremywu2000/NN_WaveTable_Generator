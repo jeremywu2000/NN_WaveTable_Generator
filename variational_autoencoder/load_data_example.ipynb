{
 "cells": [
  {
   "cell_type": "code",
   "execution_count": 1,
   "metadata": {},
   "outputs": [
    {
     "name": "stdout",
     "output_type": "stream",
     "text": [
      "Tensorflow version: 2.11.0\n"
     ]
    }
   ],
   "source": [
    "import tensorflow as tf\n",
    "import numpy as np\n",
    "from termcolor import colored\n",
    "print(f\"Tensorflow version: {tf.__version__}\")"
   ]
  },
  {
   "cell_type": "code",
   "execution_count": 2,
   "metadata": {},
   "outputs": [],
   "source": [
    "def normalize(tensor):\n",
    "    tensor_minusmin = tensor - tensor.min()\n",
    "    tensor_maxminusmin = tensor.max() - tensor.min()\n",
    "    return tensor_minusmin / tensor_maxminusmin"
   ]
  },
  {
   "cell_type": "code",
   "execution_count": 3,
   "metadata": {},
   "outputs": [
    {
     "data": {
      "text/plain": [
       "<tf.Tensor: shape=(16384, 1), dtype=float32, numpy=\n",
       "array([[-0.12615967],\n",
       "       [-0.51693726],\n",
       "       [ 0.15652466],\n",
       "       ...,\n",
       "       [-0.9361267 ],\n",
       "       [-0.9999695 ],\n",
       "       [-0.9085388 ]], dtype=float32)>"
      ]
     },
     "metadata": {},
     "output_type": "display_data"
    },
    {
     "data": {
      "text/plain": [
       "<tf.Tensor: shape=(), dtype=int32, numpy=44100>"
      ]
     },
     "metadata": {},
     "output_type": "display_data"
    }
   ],
   "source": [
    "# Read the raw audio from the .WAV file\n",
    "raw_audio = tf.io.read_file(filename=\"./audio_data/ENVELO01.WAV\")\n",
    "# Convert the raw audio to a waveform\n",
    "wave_bank, sample_rate = tf.audio.decode_wav(raw_audio)\n",
    "# Display the wavebank and sample_rate\n",
    "display(wave_bank, sample_rate)"
   ]
  },
  {
   "cell_type": "code",
   "execution_count": 4,
   "metadata": {},
   "outputs": [
    {
     "data": {
      "text/plain": [
       "<tf.Tensor: shape=(64, 256), dtype=float32, numpy=\n",
       "array([[0.46670794, 0.2579909 , 0.61769164, ..., 0.04562273, 0.        ,\n",
       "        0.06958321],\n",
       "       [0.41013354, 0.29407066, 0.5739569 , ..., 0.0447096 , 0.        ,\n",
       "        0.06817456],\n",
       "       [0.41012698, 0.29405   , 0.5739478 , ..., 0.04470889, 0.        ,\n",
       "        0.06817347],\n",
       "       ...,\n",
       "       [0.84161735, 1.        , 0.49794096, ..., 0.04799939, 0.        ,\n",
       "        0.06150281],\n",
       "       [0.84177154, 1.        , 0.4982089 , ..., 0.0480049 , 0.        ,\n",
       "        0.06150987],\n",
       "       [0.84177154, 1.        , 0.49818975, ..., 0.04007433, 0.        ,\n",
       "        0.05739134]], dtype=float32)>"
      ]
     },
     "metadata": {},
     "output_type": "display_data"
    }
   ],
   "source": [
    "wave_size = 256\n",
    "num_waves = 0\n",
    "waves = []\n",
    "wave_forms = np.transpose(wave_bank.numpy())\n",
    "for i in range(64):\n",
    "    wave_form = wave_forms[0, i*wave_size:i*wave_size+wave_size]\n",
    "    if wave_form.max() != wave_form.min():\n",
    "        wave_form = normalize(wave_form)\n",
    "        waves.append(wave_form)\n",
    "        num_waves += 1    \n",
    "waves = tf.stack(waves)\n",
    "display(waves)"
   ]
  },
  {
   "cell_type": "code",
   "execution_count": null,
   "metadata": {},
   "outputs": [],
   "source": [
    "# \"./audio_data/ENVELO01.WAV\"\n",
    "def get_waves(file_name):\n",
    "    # Read the raw audio from the .WAV file\n",
    "    raw_audio = tf.io.read_file(filename=file_name)\n",
    "    # Convert the raw audio to a waveform\n",
    "    wave_bank, sample_rate = tf.audio.decode_wav(raw_audio)\n",
    "    # Display the wavebank and sample_rate\n",
    "    # display(wave_bank, sample_rate)\n",
    "    wave_size = 256\n",
    "    num_waves = 0\n",
    "    waves = []\n",
    "    wave_forms = np.transpose(wave_bank.numpy())\n",
    "    for i in range(64):\n",
    "        wave_form = wave_forms[0, i*wave_size:i*wave_size+wave_size]\n",
    "        if wave_form.max() != wave_form.min():\n",
    "            wave_form = normalize(wave_form)\n",
    "            waves.append(wave_form)\n",
    "            num_waves += 1    \n",
    "    waves = tf.stack(waves)\n",
    "    return waves"
   ]
  }
 ],
 "metadata": {
  "kernelspec": {
   "display_name": "base",
   "language": "python",
   "name": "python3"
  },
  "language_info": {
   "codemirror_mode": {
    "name": "ipython",
    "version": 3
   },
   "file_extension": ".py",
   "mimetype": "text/x-python",
   "name": "python",
   "nbconvert_exporter": "python",
   "pygments_lexer": "ipython3",
   "version": "3.10.9"
  },
  "orig_nbformat": 4,
  "vscode": {
   "interpreter": {
    "hash": "ff1ec9c71d6c6569ddb6931262fd540c04a3bd4bd27a165637ca0df5de8b220f"
   }
  }
 },
 "nbformat": 4,
 "nbformat_minor": 2
}
